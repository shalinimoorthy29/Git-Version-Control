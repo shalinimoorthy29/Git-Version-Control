{
 "cells": [
  {
   "cell_type": "markdown",
   "id": "ccd7c429-d6bd-4482-a1f9-3a1c6e78bf68",
   "metadata": {},
   "source": [
    "# Peadiatric Acute Myeloid Leukemia (TARGET, 2018) - Exploratory Data Analysis\n",
    "\n",
    "---"
   ]
  },
  {
   "cell_type": "code",
   "execution_count": 2,
   "id": "c62e4365-090d-49e9-9977-ebeef866e0db",
   "metadata": {},
   "outputs": [],
   "source": [
    "import warnings\n",
    "warnings.filterwarnings(\"ignore\", category=UserWarning)\n",
    "warnings.filterwarnings(\"ignore\", category=FutureWarning)"
   ]
  },
  {
   "cell_type": "markdown",
   "id": "a07a38cb-0c9f-42dc-8110-e53f07e0ba73",
   "metadata": {},
   "source": [
    "## Dataset Loading and Overview"
   ]
  },
  {
   "cell_type": "markdown",
   "id": "5e43ff3b-a8af-4d3f-85cc-75b3aceb1347",
   "metadata": {},
   "source": [
    "### Pediatric Acute Myeloid Leukemia (TARGET, 2018)\n",
    "\n",
    "This dataset contains clinical information from the **TARGET AML study** (2018), focused on paediatric acute myeloid leukaemia (AML). It includes:\n",
    "\n",
    "- **1025 rows** (patients) and **75 columns** (features),\n",
    "- Clinical details such as diagnosis age, survival, genetic mutations, and treatment response.\n",
    "\n",
    "The goal is to load this dataset, ensure clean handling of missing values, and prepare it for exploratory analysis."
   ]
  },
  {
   "cell_type": "markdown",
   "id": "e421e557-0c2d-4ce2-bb55-46019ea3c936",
   "metadata": {},
   "source": [
    "### Load and preview dataset"
   ]
  },
  {
   "cell_type": "code",
   "execution_count": 4,
   "id": "7330cd37-ca97-4101-aedc-7159e4846222",
   "metadata": {},
   "outputs": [
    {
     "data": {
      "text/html": [
       "<div>\n",
       "<style scoped>\n",
       "    .dataframe tbody tr th:only-of-type {\n",
       "        vertical-align: middle;\n",
       "    }\n",
       "\n",
       "    .dataframe tbody tr th {\n",
       "        vertical-align: top;\n",
       "    }\n",
       "\n",
       "    .dataframe thead th {\n",
       "        text-align: right;\n",
       "    }\n",
       "</style>\n",
       "<table border=\"1\" class=\"dataframe\">\n",
       "  <thead>\n",
       "    <tr style=\"text-align: right;\">\n",
       "      <th></th>\n",
       "      <th>Study ID</th>\n",
       "      <th>Patient ID</th>\n",
       "      <th>Sample ID</th>\n",
       "      <th>Diagnosis Age</th>\n",
       "      <th>Diagnosis Age (days)</th>\n",
       "      <th>Analysis Cohort</th>\n",
       "      <th>Bone Marrow Leukemic Blast Percentage</th>\n",
       "      <th>Bone Marrow Site of Relapse</th>\n",
       "      <th>Cancer Type</th>\n",
       "      <th>Cancer Type Detailed</th>\n",
       "      <th>...</th>\n",
       "      <th>Trisomy 8</th>\n",
       "      <th>t(10;11)(p11.2;q23)</th>\n",
       "      <th>t(11:19)(q23:p13.1)</th>\n",
       "      <th>t(3;5)(q25;q34)</th>\n",
       "      <th>t(6;11)(q27;q23)</th>\n",
       "      <th>t(6;9)</th>\n",
       "      <th>t(8;21)</th>\n",
       "      <th>t(9;11)(p22;q23)</th>\n",
       "      <th>WBC</th>\n",
       "      <th>WT1 Mutation</th>\n",
       "    </tr>\n",
       "  </thead>\n",
       "  <tbody>\n",
       "    <tr>\n",
       "      <th>0</th>\n",
       "      <td>aml_target_2018_pub</td>\n",
       "      <td>TARGET-20-PABLDZ</td>\n",
       "      <td>TARGET-20-PABLDZ-04</td>\n",
       "      <td>7.0</td>\n",
       "      <td>2455.0</td>\n",
       "      <td>DISCOVERY</td>\n",
       "      <td>93.0</td>\n",
       "      <td>Yes</td>\n",
       "      <td>Leukemia</td>\n",
       "      <td>Acute Myeloid Leukemia</td>\n",
       "      <td>...</td>\n",
       "      <td>Unknown</td>\n",
       "      <td>Unknown</td>\n",
       "      <td>Unknown</td>\n",
       "      <td>Unknown</td>\n",
       "      <td>Unknown</td>\n",
       "      <td>Unknown</td>\n",
       "      <td>Unknown</td>\n",
       "      <td>Unknown</td>\n",
       "      <td>6.0</td>\n",
       "      <td>No</td>\n",
       "    </tr>\n",
       "    <tr>\n",
       "      <th>1</th>\n",
       "      <td>aml_target_2018_pub</td>\n",
       "      <td>TARGET-20-PABLDZ</td>\n",
       "      <td>TARGET-20-PABLDZ-09</td>\n",
       "      <td>7.0</td>\n",
       "      <td>2455.0</td>\n",
       "      <td>DISCOVERY</td>\n",
       "      <td>93.0</td>\n",
       "      <td>Yes</td>\n",
       "      <td>Leukemia</td>\n",
       "      <td>Acute Myeloid Leukemia</td>\n",
       "      <td>...</td>\n",
       "      <td>Unknown</td>\n",
       "      <td>Unknown</td>\n",
       "      <td>Unknown</td>\n",
       "      <td>Unknown</td>\n",
       "      <td>Unknown</td>\n",
       "      <td>Unknown</td>\n",
       "      <td>Unknown</td>\n",
       "      <td>Unknown</td>\n",
       "      <td>6.0</td>\n",
       "      <td>No</td>\n",
       "    </tr>\n",
       "    <tr>\n",
       "      <th>2</th>\n",
       "      <td>aml_target_2018_pub</td>\n",
       "      <td>TARGET-20-PADYIR</td>\n",
       "      <td>TARGET-20-PADYIR-03</td>\n",
       "      <td>4.0</td>\n",
       "      <td>1159.0</td>\n",
       "      <td>DISCOVERY</td>\n",
       "      <td>29.0</td>\n",
       "      <td>Yes</td>\n",
       "      <td>Leukemia</td>\n",
       "      <td>Acute Myeloid Leukemia</td>\n",
       "      <td>...</td>\n",
       "      <td>Unknown</td>\n",
       "      <td>Unknown</td>\n",
       "      <td>Unknown</td>\n",
       "      <td>Unknown</td>\n",
       "      <td>Unknown</td>\n",
       "      <td>Unknown</td>\n",
       "      <td>Unknown</td>\n",
       "      <td>Unknown</td>\n",
       "      <td>13.1</td>\n",
       "      <td>No</td>\n",
       "    </tr>\n",
       "    <tr>\n",
       "      <th>3</th>\n",
       "      <td>aml_target_2018_pub</td>\n",
       "      <td>TARGET-20-PADYIR</td>\n",
       "      <td>TARGET-20-PADYIR-04</td>\n",
       "      <td>4.0</td>\n",
       "      <td>1159.0</td>\n",
       "      <td>DISCOVERY</td>\n",
       "      <td>29.0</td>\n",
       "      <td>Yes</td>\n",
       "      <td>Leukemia</td>\n",
       "      <td>Acute Myeloid Leukemia</td>\n",
       "      <td>...</td>\n",
       "      <td>Unknown</td>\n",
       "      <td>Unknown</td>\n",
       "      <td>Unknown</td>\n",
       "      <td>Unknown</td>\n",
       "      <td>Unknown</td>\n",
       "      <td>Unknown</td>\n",
       "      <td>Unknown</td>\n",
       "      <td>Unknown</td>\n",
       "      <td>13.1</td>\n",
       "      <td>No</td>\n",
       "    </tr>\n",
       "    <tr>\n",
       "      <th>4</th>\n",
       "      <td>aml_target_2018_pub</td>\n",
       "      <td>TARGET-20-PADYIR</td>\n",
       "      <td>TARGET-20-PADYIR-09</td>\n",
       "      <td>4.0</td>\n",
       "      <td>1159.0</td>\n",
       "      <td>DISCOVERY</td>\n",
       "      <td>29.0</td>\n",
       "      <td>Yes</td>\n",
       "      <td>Leukemia</td>\n",
       "      <td>Acute Myeloid Leukemia</td>\n",
       "      <td>...</td>\n",
       "      <td>Unknown</td>\n",
       "      <td>Unknown</td>\n",
       "      <td>Unknown</td>\n",
       "      <td>Unknown</td>\n",
       "      <td>Unknown</td>\n",
       "      <td>Unknown</td>\n",
       "      <td>Unknown</td>\n",
       "      <td>Unknown</td>\n",
       "      <td>13.1</td>\n",
       "      <td>No</td>\n",
       "    </tr>\n",
       "    <tr>\n",
       "      <th>...</th>\n",
       "      <td>...</td>\n",
       "      <td>...</td>\n",
       "      <td>...</td>\n",
       "      <td>...</td>\n",
       "      <td>...</td>\n",
       "      <td>...</td>\n",
       "      <td>...</td>\n",
       "      <td>...</td>\n",
       "      <td>...</td>\n",
       "      <td>...</td>\n",
       "      <td>...</td>\n",
       "      <td>...</td>\n",
       "      <td>...</td>\n",
       "      <td>...</td>\n",
       "      <td>...</td>\n",
       "      <td>...</td>\n",
       "      <td>...</td>\n",
       "      <td>...</td>\n",
       "      <td>...</td>\n",
       "      <td>...</td>\n",
       "      <td>...</td>\n",
       "    </tr>\n",
       "    <tr>\n",
       "      <th>1020</th>\n",
       "      <td>aml_target_2018_pub</td>\n",
       "      <td>TARGET-21-PATKBK</td>\n",
       "      <td>TARGET-21-PATKBK-41</td>\n",
       "      <td>1.0</td>\n",
       "      <td>31.0</td>\n",
       "      <td>INDUCTION FAILURE - DISCOVERY</td>\n",
       "      <td>30.0</td>\n",
       "      <td>Not done</td>\n",
       "      <td>Leukemia</td>\n",
       "      <td>Acute Myeloid Leukemia</td>\n",
       "      <td>...</td>\n",
       "      <td>No</td>\n",
       "      <td>No</td>\n",
       "      <td>No</td>\n",
       "      <td>No</td>\n",
       "      <td>No</td>\n",
       "      <td>No</td>\n",
       "      <td>No</td>\n",
       "      <td>No</td>\n",
       "      <td>27.6</td>\n",
       "      <td>No</td>\n",
       "    </tr>\n",
       "    <tr>\n",
       "      <th>1021</th>\n",
       "      <td>aml_target_2018_pub</td>\n",
       "      <td>TARGET-21-PATKKJ</td>\n",
       "      <td>TARGET-21-PATKKJ-09</td>\n",
       "      <td>24.0</td>\n",
       "      <td>8581.0</td>\n",
       "      <td>INDUCTION FAILURE - DISCOVERY</td>\n",
       "      <td>65.0</td>\n",
       "      <td>Not done</td>\n",
       "      <td>Leukemia</td>\n",
       "      <td>Acute Myeloid Leukemia</td>\n",
       "      <td>...</td>\n",
       "      <td>No</td>\n",
       "      <td>No</td>\n",
       "      <td>No</td>\n",
       "      <td>No</td>\n",
       "      <td>No</td>\n",
       "      <td>No</td>\n",
       "      <td>No</td>\n",
       "      <td>No</td>\n",
       "      <td>22.9</td>\n",
       "      <td>Yes</td>\n",
       "    </tr>\n",
       "    <tr>\n",
       "      <th>1022</th>\n",
       "      <td>aml_target_2018_pub</td>\n",
       "      <td>TARGET-21-PATKKJ</td>\n",
       "      <td>TARGET-21-PATKKJ-41</td>\n",
       "      <td>24.0</td>\n",
       "      <td>8581.0</td>\n",
       "      <td>INDUCTION FAILURE - DISCOVERY</td>\n",
       "      <td>65.0</td>\n",
       "      <td>Not done</td>\n",
       "      <td>Leukemia</td>\n",
       "      <td>Acute Myeloid Leukemia</td>\n",
       "      <td>...</td>\n",
       "      <td>No</td>\n",
       "      <td>No</td>\n",
       "      <td>No</td>\n",
       "      <td>No</td>\n",
       "      <td>No</td>\n",
       "      <td>No</td>\n",
       "      <td>No</td>\n",
       "      <td>No</td>\n",
       "      <td>22.9</td>\n",
       "      <td>Yes</td>\n",
       "    </tr>\n",
       "    <tr>\n",
       "      <th>1023</th>\n",
       "      <td>aml_target_2018_pub</td>\n",
       "      <td>TARGET-21-PATKWH</td>\n",
       "      <td>TARGET-21-PATKWH-09</td>\n",
       "      <td>17.0</td>\n",
       "      <td>6008.0</td>\n",
       "      <td>INDUCTION FAILURE - DISCOVERY</td>\n",
       "      <td>20.0</td>\n",
       "      <td>Yes</td>\n",
       "      <td>Leukemia</td>\n",
       "      <td>Acute Myeloid Leukemia</td>\n",
       "      <td>...</td>\n",
       "      <td>No</td>\n",
       "      <td>No</td>\n",
       "      <td>No</td>\n",
       "      <td>No</td>\n",
       "      <td>No</td>\n",
       "      <td>No</td>\n",
       "      <td>No</td>\n",
       "      <td>No</td>\n",
       "      <td>1.5</td>\n",
       "      <td>Yes</td>\n",
       "    </tr>\n",
       "    <tr>\n",
       "      <th>1024</th>\n",
       "      <td>aml_target_2018_pub</td>\n",
       "      <td>TARGET-21-PATKWH</td>\n",
       "      <td>TARGET-21-PATKWH-41</td>\n",
       "      <td>17.0</td>\n",
       "      <td>6008.0</td>\n",
       "      <td>INDUCTION FAILURE - DISCOVERY</td>\n",
       "      <td>20.0</td>\n",
       "      <td>Yes</td>\n",
       "      <td>Leukemia</td>\n",
       "      <td>Acute Myeloid Leukemia</td>\n",
       "      <td>...</td>\n",
       "      <td>No</td>\n",
       "      <td>No</td>\n",
       "      <td>No</td>\n",
       "      <td>No</td>\n",
       "      <td>No</td>\n",
       "      <td>No</td>\n",
       "      <td>No</td>\n",
       "      <td>No</td>\n",
       "      <td>1.5</td>\n",
       "      <td>Yes</td>\n",
       "    </tr>\n",
       "  </tbody>\n",
       "</table>\n",
       "<p>1025 rows × 75 columns</p>\n",
       "</div>"
      ],
      "text/plain": [
       "                 Study ID        Patient ID            Sample ID  \\\n",
       "0     aml_target_2018_pub  TARGET-20-PABLDZ  TARGET-20-PABLDZ-04   \n",
       "1     aml_target_2018_pub  TARGET-20-PABLDZ  TARGET-20-PABLDZ-09   \n",
       "2     aml_target_2018_pub  TARGET-20-PADYIR  TARGET-20-PADYIR-03   \n",
       "3     aml_target_2018_pub  TARGET-20-PADYIR  TARGET-20-PADYIR-04   \n",
       "4     aml_target_2018_pub  TARGET-20-PADYIR  TARGET-20-PADYIR-09   \n",
       "...                   ...               ...                  ...   \n",
       "1020  aml_target_2018_pub  TARGET-21-PATKBK  TARGET-21-PATKBK-41   \n",
       "1021  aml_target_2018_pub  TARGET-21-PATKKJ  TARGET-21-PATKKJ-09   \n",
       "1022  aml_target_2018_pub  TARGET-21-PATKKJ  TARGET-21-PATKKJ-41   \n",
       "1023  aml_target_2018_pub  TARGET-21-PATKWH  TARGET-21-PATKWH-09   \n",
       "1024  aml_target_2018_pub  TARGET-21-PATKWH  TARGET-21-PATKWH-41   \n",
       "\n",
       "      Diagnosis Age  Diagnosis Age (days)                Analysis Cohort  \\\n",
       "0               7.0                2455.0                      DISCOVERY   \n",
       "1               7.0                2455.0                      DISCOVERY   \n",
       "2               4.0                1159.0                      DISCOVERY   \n",
       "3               4.0                1159.0                      DISCOVERY   \n",
       "4               4.0                1159.0                      DISCOVERY   \n",
       "...             ...                   ...                            ...   \n",
       "1020            1.0                  31.0  INDUCTION FAILURE - DISCOVERY   \n",
       "1021           24.0                8581.0  INDUCTION FAILURE - DISCOVERY   \n",
       "1022           24.0                8581.0  INDUCTION FAILURE - DISCOVERY   \n",
       "1023           17.0                6008.0  INDUCTION FAILURE - DISCOVERY   \n",
       "1024           17.0                6008.0  INDUCTION FAILURE - DISCOVERY   \n",
       "\n",
       "      Bone Marrow Leukemic Blast Percentage Bone Marrow Site of Relapse  \\\n",
       "0                                      93.0                         Yes   \n",
       "1                                      93.0                         Yes   \n",
       "2                                      29.0                         Yes   \n",
       "3                                      29.0                         Yes   \n",
       "4                                      29.0                         Yes   \n",
       "...                                     ...                         ...   \n",
       "1020                                   30.0                    Not done   \n",
       "1021                                   65.0                    Not done   \n",
       "1022                                   65.0                    Not done   \n",
       "1023                                   20.0                         Yes   \n",
       "1024                                   20.0                         Yes   \n",
       "\n",
       "     Cancer Type    Cancer Type Detailed  ... Trisomy 8 t(10;11)(p11.2;q23)  \\\n",
       "0       Leukemia  Acute Myeloid Leukemia  ...   Unknown             Unknown   \n",
       "1       Leukemia  Acute Myeloid Leukemia  ...   Unknown             Unknown   \n",
       "2       Leukemia  Acute Myeloid Leukemia  ...   Unknown             Unknown   \n",
       "3       Leukemia  Acute Myeloid Leukemia  ...   Unknown             Unknown   \n",
       "4       Leukemia  Acute Myeloid Leukemia  ...   Unknown             Unknown   \n",
       "...          ...                     ...  ...       ...                 ...   \n",
       "1020    Leukemia  Acute Myeloid Leukemia  ...        No                  No   \n",
       "1021    Leukemia  Acute Myeloid Leukemia  ...        No                  No   \n",
       "1022    Leukemia  Acute Myeloid Leukemia  ...        No                  No   \n",
       "1023    Leukemia  Acute Myeloid Leukemia  ...        No                  No   \n",
       "1024    Leukemia  Acute Myeloid Leukemia  ...        No                  No   \n",
       "\n",
       "     t(11:19)(q23:p13.1) t(3;5)(q25;q34) t(6;11)(q27;q23)   t(6;9)  t(8;21)  \\\n",
       "0                Unknown         Unknown          Unknown  Unknown  Unknown   \n",
       "1                Unknown         Unknown          Unknown  Unknown  Unknown   \n",
       "2                Unknown         Unknown          Unknown  Unknown  Unknown   \n",
       "3                Unknown         Unknown          Unknown  Unknown  Unknown   \n",
       "4                Unknown         Unknown          Unknown  Unknown  Unknown   \n",
       "...                  ...             ...              ...      ...      ...   \n",
       "1020                  No              No               No       No       No   \n",
       "1021                  No              No               No       No       No   \n",
       "1022                  No              No               No       No       No   \n",
       "1023                  No              No               No       No       No   \n",
       "1024                  No              No               No       No       No   \n",
       "\n",
       "     t(9;11)(p22;q23)   WBC WT1 Mutation  \n",
       "0             Unknown   6.0           No  \n",
       "1             Unknown   6.0           No  \n",
       "2             Unknown  13.1           No  \n",
       "3             Unknown  13.1           No  \n",
       "4             Unknown  13.1           No  \n",
       "...               ...   ...          ...  \n",
       "1020               No  27.6           No  \n",
       "1021               No  22.9          Yes  \n",
       "1022               No  22.9          Yes  \n",
       "1023               No   1.5          Yes  \n",
       "1024               No   1.5          Yes  \n",
       "\n",
       "[1025 rows x 75 columns]"
      ]
     },
     "execution_count": 4,
     "metadata": {},
     "output_type": "execute_result"
    }
   ],
   "source": [
    "import pandas as pd\n",
    "\n",
    "# Specify the file path\n",
    "file_path = r'C:\\Users\\shali\\Documents\\L&D\\GitHub Projects\\Clinical Data Analysis\\001_cBioPortal_Pediatric AML TARGET 2018\\aml_target_2018_pub_clinical_data.xlsx'\n",
    "\n",
    "# Load the Excel file, treating 'NA' as a missing value\n",
    "clinical_data = pd.read_excel(file_path, na_values=['NA'])\n",
    "clinical_data"
   ]
  },
  {
   "cell_type": "markdown",
   "id": "19b24d38-3547-4437-95d3-4530c72bd24b",
   "metadata": {},
   "source": [
    "### Dataset Overview\n",
    "\n",
    "The first few rows of the dataset reveal:\n",
    "\n",
    "- **Columns:** There are 75 columns covering various clinical, genetic, and demographic variables.\n",
    "- **Missing Values:** Missing data is represented by \"NA\" (handled appropriately).\n",
    "- **Data Types:** Columns like `Diagnosis Age`, `Bone Marrow Leukemic Blast Percentage`, and mutations appear to contain numeric and categorical data.\n"
   ]
  },
  {
   "cell_type": "markdown",
   "id": "5517c3d5-7d6e-4988-9e59-75b293509204",
   "metadata": {},
   "source": [
    "## Initial Data Exploration"
   ]
  },
  {
   "cell_type": "markdown",
   "id": "17460c3e-e274-48f1-9ffe-c54c5aba41f3",
   "metadata": {},
   "source": [
    "### Column Names"
   ]
  },
  {
   "cell_type": "code",
   "execution_count": 14,
   "id": "bf51f151-28fa-4996-91a6-6c901b2ceb6a",
   "metadata": {},
   "outputs": [
    {
     "name": "stdout",
     "output_type": "stream",
     "text": [
      "Column Names:\n",
      "Index(['Study ID', 'Patient ID', 'Sample ID', 'Diagnosis Age',\n",
      "       'Diagnosis Age (days)', 'Analysis Cohort',\n",
      "       'Bone Marrow Leukemic Blast Percentage', 'Bone Marrow Site of Relapse',\n",
      "       'Cancer Type', 'Cancer Type Detailed', 'CBFT2A3-GLIS', 'CEBPA Mutation',\n",
      "       'Chloroma', 'Chloroma Site of Relapse', 'C-Kit Mutation Exon 17',\n",
      "       'C-Kit Mutation Exon 8', 'CNS Disease', 'CNS Site of Relapse',\n",
      "       'CR Status at End of Course 1', 'CR Status at End of Course 2',\n",
      "       'Cytogenetic Code (Other)', 'Cytogenetic Complexity',\n",
      "       'Cytogenetic Relapse Site', 'Time To Event (days)', '5Q Deletion',\n",
      "       '7Q Deletion', '9Q Deletion', 'Ethnicity Category', 'FAB',\n",
      "       'First Event', 'FLT3-ITD Allelic Ratio.', 'FLT3-ITD Postive', 'FLT3-PM',\n",
      "       'Fraction Genome Altered', 'inv(16)', 'ISCN', 'Minus-X', 'Minus-Y',\n",
      "       'MLL', 'Monosomy 5', 'Monosomy 7', 'MRD at end of Course 1',\n",
      "       'MRD at end of Course 2', 'MRD Percentage at end of Course 1',\n",
      "       'MRD Percentage at end of Course 2', 'Mutation Count', 'NPM Mutation',\n",
      "       'NUP98-NSD1', 'Oncotree Code', 'Overall Survival Days',\n",
      "       'Overall Survival (Months)', 'Overall Survival Status', 'Other MLL',\n",
      "       'Other Site of Relapse', 'Peripheral Blasts Percentage',\n",
      "       'Primary Cytogenetic Code', 'Protocol', 'Race Category', 'Risk Group',\n",
      "       'Number of Samples Per Patient', 'SCT in First CR', 'Sex',\n",
      "       'Somatic Status', 'TMB (nonsynonymous)', 'Trisomy 21', 'Trisomy 8',\n",
      "       't(10;11)(p11.2;q23)', 't(11:19)(q23:p13.1)', 't(3;5)(q25;q34)',\n",
      "       't(6;11)(q27;q23)', 't(6;9)', 't(8;21)', 't(9;11)(p22;q23)', 'WBC',\n",
      "       'WT1 Mutation'],\n",
      "      dtype='object')\n"
     ]
    }
   ],
   "source": [
    "# Get all column names\n",
    "column_names = clinical_data.columns\n",
    "print(\"Column Names:\")\n",
    "print(column_names)"
   ]
  },
  {
   "cell_type": "markdown",
   "id": "8df18fe3-a2b0-49ff-9c4f-4b77ace09a56",
   "metadata": {},
   "source": [
    "### Count the number of columns with missing values"
   ]
  },
  {
   "cell_type": "code",
   "execution_count": 12,
   "id": "e62d8107-0841-46d6-bd17-4efd214f9819",
   "metadata": {},
   "outputs": [
    {
     "name": "stdout",
     "output_type": "stream",
     "text": [
      "Number of columns with missing values: 66\n"
     ]
    }
   ],
   "source": [
    "# Count the number of columns with missing values\n",
    "num_columns_with_nan = len(columns_with_nan)\n",
    "print(f\"Number of columns with missing values: {num_columns_with_nan}\")"
   ]
  },
  {
   "cell_type": "markdown",
   "id": "c6162715-ed96-43f9-9ab0-6bdf85950788",
   "metadata": {},
   "source": [
    "### Check for columns which have missing values"
   ]
  },
  {
   "cell_type": "code",
   "execution_count": 10,
   "id": "338f5c99-660d-407e-b402-023a8a1dfaae",
   "metadata": {},
   "outputs": [
    {
     "name": "stdout",
     "output_type": "stream",
     "text": [
      "Columns with missing values:\n",
      "Diagnosis Age                             13\n",
      "Diagnosis Age (days)                      13\n",
      "Bone Marrow Leukemic Blast Percentage     72\n",
      "Bone Marrow Site of Relapse               13\n",
      "CBFT2A3-GLIS                             604\n",
      "                                        ... \n",
      "t(6;9)                                    13\n",
      "t(8;21)                                   13\n",
      "t(9;11)(p22;q23)                          13\n",
      "WBC                                       13\n",
      "WT1 Mutation                              13\n",
      "Length: 66, dtype: int64\n"
     ]
    }
   ],
   "source": [
    "# Check for columns with missing values\n",
    "missing_values = clinical_data.isnull().sum()\n",
    "\n",
    "# Filter to show only columns with missing values\n",
    "columns_with_nan = missing_values[missing_values > 0]\n",
    "print(\"Columns with missing values:\")\n",
    "print(columns_with_nan)"
   ]
  },
  {
   "cell_type": "code",
   "execution_count": 16,
   "id": "83519910-fc6c-47cc-8c53-e9e058c36146",
   "metadata": {},
   "outputs": [
    {
     "name": "stdout",
     "output_type": "stream",
     "text": [
      "Top 10 columns with missing values:\n",
      "Mutation Count                       875\n",
      "TMB (nonsynonymous)                  875\n",
      "FLT3-ITD Allelic Ratio.              855\n",
      "Fraction Genome Altered              772\n",
      "Cytogenetic Code (Other)             765\n",
      "CBFT2A3-GLIS                         604\n",
      "NUP98-NSD1                           604\n",
      "Other MLL                            597\n",
      "MRD Percentage at end of Course 2    323\n",
      "MRD Percentage at end of Course 1    222\n",
      "dtype: int64\n"
     ]
    }
   ],
   "source": [
    "# Sort missing values in descending order\n",
    "columns_with_nan_sorted = columns_with_nan.sort_values(ascending=False)\n",
    "print(\"Top 10 columns with missing values:\")\n",
    "print(columns_with_nan_sorted.head(10))"
   ]
  },
  {
   "cell_type": "markdown",
   "id": "a4eb5129-0e86-476b-a7b8-2a49cd9fac66",
   "metadata": {},
   "source": [
    "### Shape of the data"
   ]
  },
  {
   "cell_type": "code",
   "execution_count": 267,
   "id": "b6152a6a-d38b-41a4-b9d6-f9fc37e2784b",
   "metadata": {},
   "outputs": [
    {
     "data": {
      "text/plain": [
       "(1025, 75)"
      ]
     },
     "execution_count": 267,
     "metadata": {},
     "output_type": "execute_result"
    }
   ],
   "source": [
    "clinical_data.shape"
   ]
  },
  {
   "cell_type": "markdown",
   "id": "63b65998-4446-4d54-9af6-35813a94823f",
   "metadata": {},
   "source": [
    "**Conclusions**\n",
    "\n",
    "**Column Diversity**  \n",
    "The dataset includes a wide range of features:  \n",
    "- **Demographic data**: Ethnicity, age, and sex.  \n",
    "- **Clinical outcomes**: Survival rates, remission statuses, and bone marrow assessments.  \n",
    "- **Genetic and mutation data**: Cytogenetic codes, mutation statuses, and karyotype details.  \n",
    "\n",
    "This diverse set of variables offers rich opportunities for exploratory data analysis, correlation studies, and predictive modelling.\n",
    "\n",
    "**Missing Values**  \n",
    "- A total of **66 columns** have missing values, which must be handled carefully to maintain data integrity.  \n",
    "- Key variables with significant missing data include:  \n",
    "   - **Mutation Count**: 875 missing  \n",
    "   - **TMB (nonsynonymous)**: 855 missing  \n",
    "   - **FLT3-ITD Allelic Ratio**: 755 missing  \n",
    "   - **Bone Marrow Leukemic Blast Percentage**: 72 missing  \n",
    "   - **MRD at End of Course 2**: 128 missing  \n",
    "\n",
    "These variables are critical for downstream survival or mutation analyses, making appropriate imputation or cleaning strategies essential.\n",
    "\n",
    "**Note:** Removing rows with missing values across all columns caused excessive data loss. To address this:\n",
    "- Data cleaning will be performed selectively, \n",
    "- Rows will only be dropped for critical columns essential to the specific analysis.\n",
    "\n",
    "This ensures we retain as much data as possible while maintaining data integrity.\n",
    "\n",
    "**Dataset Structure**  \n",
    "The dataset contains **1025 rows** and **75 columns**, providing a comprehensive clinical and genetic overview of paediatric AML patients.\n"
   ]
  },
  {
   "cell_type": "markdown",
   "id": "dcb6625e-e453-41d8-9556-e473f6f9e689",
   "metadata": {},
   "source": [
    "## Preserving the Original Dataset"
   ]
  },
  {
   "cell_type": "markdown",
   "id": "4ddfca91-53e7-486c-ba6d-a8758a79e5ef",
   "metadata": {},
   "source": [
    "How can we ensure the integrity of the original dataset during data processing and analysis?"
   ]
  },
  {
   "cell_type": "markdown",
   "id": "31c3ccdf-cd8c-4231-9202-0a22f81a1b02",
   "metadata": {},
   "source": [
    "### Made a copy of the original DataFrame to preserve the original dataset"
   ]
  },
  {
   "cell_type": "markdown",
   "id": "2fbf0550-bed2-41a5-bc52-aa43aed371a6",
   "metadata": {},
   "source": [
    "- To ensure the integrity of the dataset, we create a **copy** of the original DataFrame. This allows us to make modifications freely without altering the raw data, which is essential for reproducibility and traceability.\n",
    "\n",
    "- **Why use `.copy()`?**  \n",
    "Simply assigning the DataFrame (e.g., `clinical_data_copy = clinical_data`) creates a reference to the original data, so changes to the copy would affect the original.  \n",
    "Using `.copy()` ensures an independent duplicate of the data.\n"
   ]
  },
  {
   "cell_type": "code",
   "execution_count": 33,
   "id": "c033c481-d1d9-4c79-a2df-0e5898416d8b",
   "metadata": {},
   "outputs": [
    {
     "data": {
      "text/plain": [
       "(1025, 75)"
      ]
     },
     "execution_count": 33,
     "metadata": {},
     "output_type": "execute_result"
    }
   ],
   "source": [
    "# Create a copy of the original DataFrame\n",
    "clinical_data_copy = clinical_data.copy()\n",
    "clinical_data_copy.shape"
   ]
  },
  {
   "cell_type": "markdown",
   "id": "7d4dc8a2-1fb7-4c82-b290-f50947231cc8",
   "metadata": {},
   "source": [
    "**Conclusion:**\n",
    "\n",
    "- A copy of the original DataFrame was successfully created to preserve the raw data. This ensures that any modifications made during analysis will not affect the original dataset.  \n",
    "- Creating a backup safeguards against accidental data loss, irreversible changes, or errors during data processing—making it a best practice in data analysis workflows.\n"
   ]
  },
  {
   "cell_type": "markdown",
   "id": "b05ebe13-688d-404c-8926-dadc5985ebb7",
   "metadata": {},
   "source": [
    "## Survival Analysis"
   ]
  },
  {
   "cell_type": "markdown",
   "id": "12a6a609-b341-4cca-ba99-64b91eaf2791",
   "metadata": {},
   "source": [
    "### Cleaning and Inspecting Survival Data"
   ]
  },
  {
   "cell_type": "markdown",
   "id": "838dec43-9dd9-44c2-b5a6-b377cb365ead",
   "metadata": {},
   "source": [
    "**Questions Addressed:**\n",
    "\n",
    "- How can we clean and prepare survival data (Overall Survival Days and Overall Survival Status) for analysis?\n",
    "- Are there any missing or invalid values in these survival-related columns, and how should they be handled?"
   ]
  },
  {
   "cell_type": "markdown",
   "id": "4b6d8b49-eb7e-4d99-bf2a-73254a0d6d6d",
   "metadata": {},
   "source": [
    "**Why Clean Survival Data?**\n",
    "\n",
    "Survival analysis relies on clean and complete data for accurate results.  \n",
    "Key variables include:  \n",
    "- **Overall Survival Days**: Total days a patient survived from diagnosis.  \n",
    "- **Overall Survival Status**: Binary outcome indicating whether the patient is **LIVING** or **DECEASED**.  \n",
    "\n",
    "Ensuring these columns are free of missing or invalid values is a crucial first step in survival modelling.\n",
    "\n",
    "We remove rows with missing `Overall Survival Days` because survival time is critical for analysis.  \n",
    "Using `subset` ensures that only this column is checked, leaving other data untouched.\n"
   ]
  },
  {
   "cell_type": "code",
   "execution_count": 47,
   "id": "e4958b5e-8e51-4a69-bcfb-b660f12175af",
   "metadata": {},
   "outputs": [
    {
     "name": "stdout",
     "output_type": "stream",
     "text": [
      "Shape after cleaning 'Overall Survival Days': (1012, 75)\n",
      "First few rows of 'Overall Survival Days' and 'Overall Survival Status':\n",
      "    Overall Survival Days Overall Survival Status\n",
      "0                   721.0                0:LIVING\n",
      "1                   721.0                0:LIVING\n",
      "2                   585.0              1:DECEASED\n",
      "3                   585.0              1:DECEASED\n",
      "4                   585.0              1:DECEASED\n",
      "5                   536.0              1:DECEASED\n",
      "6                   536.0              1:DECEASED\n",
      "7                  1346.0                0:LIVING\n",
      "8                   223.0              1:DECEASED\n",
      "9                   596.0              1:DECEASED\n",
      "10                  163.0              1:DECEASED\n",
      "\n",
      "Missing values in 'Overall Survival Days' and 'Overall Survival Status' after reloading:\n",
      "Overall Survival Days      0\n",
      "Overall Survival Status    0\n",
      "dtype: int64\n"
     ]
    }
   ],
   "source": [
    "# Filter Data by Overall Survival Days\n",
    "clinical_data_copy_os_days = clinical_data_copy.dropna(subset=['Overall Survival Days'])\n",
    "\n",
    "# Check the shape of the cleaned DataFrame for overall survival days\n",
    "print(f\"Shape after cleaning 'Overall Survival Days': {clinical_data_copy_os_days.shape}\")\n",
    "\n",
    "# Display the first few rows if you want to inspect the cleaned data\n",
    "print(\"First few rows of 'Overall Survival Days' and 'Overall Survival Status':\")\n",
    "print(clinical_data_copy_os_days[['Overall Survival Days', 'Overall Survival Status']].head(11))\n",
    "\n",
    "# Check for missing values in these columns\n",
    "print(\"\\nMissing values in 'Overall Survival Days' and 'Overall Survival Status' after reloading:\")\n",
    "print(clinical_data_copy_os_days[['Overall Survival Days', 'Overall Survival Status']].isnull().sum())"
   ]
  },
  {
   "cell_type": "markdown",
   "id": "d78886be-32d1-469c-9584-1ddc2c15da48",
   "metadata": {},
   "source": [
    "\n",
    "- **Cleaning**: Rows with missing `Overall Survival Days` were successfully removed.  \n",
    "- **Dataset Shape**: The cleaned dataset now contains **1012 rows** and **75 columns**.  \n",
    "- **Validation**: There are no missing values in `Overall Survival Days` or `Overall Survival Status`.  \n",
    "\n",
    "The cleaned data is now ready for survival analysis, such as Kaplan-Meier curves or Cox Proportional Hazards modelling."
   ]
  },
  {
   "cell_type": "markdown",
   "id": "6f86a1f9-fe4f-47a9-8b5e-06d1e7e7e83a",
   "metadata": {},
   "source": [
    "### Preprocessing Survival Data for Analysis"
   ]
  },
  {
   "cell_type": "code",
   "execution_count": 49,
   "id": "644e93f5-9846-4fcb-befd-5a90b216abb0",
   "metadata": {},
   "outputs": [
    {
     "name": "stdout",
     "output_type": "stream",
     "text": [
      "First few rows after cleaning:\n",
      "   Overall Survival Days Overall Survival Status\n",
      "0                  721.0                       0\n",
      "1                  721.0                       0\n",
      "2                  585.0                       1\n",
      "3                  585.0                       1\n",
      "4                  585.0                       1\n",
      "\n",
      "Remaining missing values in survival columns after cleaning:\n",
      "Overall Survival Days      0\n",
      "Overall Survival Status    0\n",
      "dtype: int64\n"
     ]
    }
   ],
   "source": [
    "# Extract numeric part from 'Overall Survival Status' by splitting at ':'\n",
    "clinical_data_copy_os_days.loc[:, 'Overall Survival Status'] = clinical_data_copy_os_days['Overall Survival Status'].apply(\n",
    "    lambda x: int(str(x).split(':')[0]) if pd.notnull(x) else x\n",
    ")\n",
    "\n",
    "# Convert 'Overall Survival Days' to numeric with coercion\n",
    "clinical_data_copy_os_days.loc[:, 'Overall Survival Days'] = pd.to_numeric(clinical_data_copy_os_days['Overall Survival Days'], errors='coerce')\n",
    "\n",
    "# Convert 'Overall Survival Status' to numeric with coercion\n",
    "clinical_data_copy_os_days.loc[:, 'Overall Survival Status'] = pd.to_numeric(clinical_data_copy_os_days['Overall Survival Status'], errors='coerce')\n",
    "\n",
    "# Drop rows with missing values in the survival columns\n",
    "survival_data = clinical_data_copy_os_days.dropna(subset=['Overall Survival Days', 'Overall Survival Status'])\n",
    "\n",
    "# Verify the cleaned data\n",
    "print(\"First few rows after cleaning:\")\n",
    "print(survival_data[['Overall Survival Days', 'Overall Survival Status']].head())\n",
    "\n",
    "print(\"\\nRemaining missing values in survival columns after cleaning:\")\n",
    "print(survival_data[['Overall Survival Days', 'Overall Survival Status']].isnull().sum())"
   ]
  },
  {
   "cell_type": "markdown",
   "id": "c440490c-115f-403d-be77-29b72298ac7b",
   "metadata": {},
   "source": [
    "**Conclusions:**\n",
    "\n",
    "- Cleaning:\n",
    "\n",
    "Rows with missing values in the Overall Survival Days and Overall Survival Status columns were removed, reducing the dataset size from 1025 rows to 1012 rows.\n",
    "This ensures that the survival data is complete and reliable for analysis.\n",
    "\n",
    "- Preprocessing:\n",
    "- \n",
    "The Overall Survival Status column was cleaned by extracting the numeric survival status, ensuring it is binary and ready for analysis.The text after the colon (e.g., :LIVING or :DECEASED) is not necessary for survival analysis.\n",
    "Both Overall Survival Days and Overall Survival Status were converted to numeric formats to maintain consistency for downstream analyses.\n",
    "Missing or invalid values were dropped, leaving no remaining null entries in the survival columns."
   ]
  },
  {
   "cell_type": "markdown",
   "id": "7693cf08-ea8d-4505-8f45-914eaa5f66f2",
   "metadata": {},
   "source": [
    "### Install Lifelines Python package for plotting Kaplan Meier Curves"
   ]
  },
  {
   "cell_type": "markdown",
   "id": "0b01b696-4aaf-43f4-8c84-5a5cb8262c5b",
   "metadata": {},
   "source": [
    "Why Lifelines?  \n",
    "\n",
    "**Lifelines** is a Python library designed for survival analysis. It allows us to:  \n",
    "- Plot Kaplan-Meier survival curves,  \n",
    "- Perform statistical comparisons of survival data,  \n",
    "- Fit and visualise models like Cox Proportional Hazards.  \n"
   ]
  },
  {
   "cell_type": "code",
   "execution_count": 51,
   "id": "e4919393-3fcd-44f6-8bd0-3156e53da9e1",
   "metadata": {
    "scrolled": true
   },
   "outputs": [
    {
     "name": "stdout",
     "output_type": "stream",
     "text": [
      "Requirement already satisfied: lifelines in c:\\users\\shali\\downloads\\anacondafiles\\lib\\site-packages (0.30.0)\n",
      "Requirement already satisfied: numpy>=1.14.0 in c:\\users\\shali\\downloads\\anacondafiles\\lib\\site-packages (from lifelines) (1.26.4)\n",
      "Requirement already satisfied: scipy>=1.7.0 in c:\\users\\shali\\downloads\\anacondafiles\\lib\\site-packages (from lifelines) (1.13.1)\n",
      "Requirement already satisfied: pandas>=2.1 in c:\\users\\shali\\downloads\\anacondafiles\\lib\\site-packages (from lifelines) (2.2.2)\n",
      "Requirement already satisfied: matplotlib>=3.0 in c:\\users\\shali\\downloads\\anacondafiles\\lib\\site-packages (from lifelines) (3.9.2)\n",
      "Requirement already satisfied: autograd>=1.5 in c:\\users\\shali\\downloads\\anacondafiles\\lib\\site-packages (from lifelines) (1.7.0)\n",
      "Requirement already satisfied: autograd-gamma>=0.3 in c:\\users\\shali\\downloads\\anacondafiles\\lib\\site-packages (from lifelines) (0.5.0)\n",
      "Requirement already satisfied: formulaic>=0.2.2 in c:\\users\\shali\\downloads\\anacondafiles\\lib\\site-packages (from lifelines) (1.0.2)\n",
      "Requirement already satisfied: interface-meta>=1.2.0 in c:\\users\\shali\\downloads\\anacondafiles\\lib\\site-packages (from formulaic>=0.2.2->lifelines) (1.3.0)\n",
      "Requirement already satisfied: typing-extensions>=4.2.0 in c:\\users\\shali\\downloads\\anacondafiles\\lib\\site-packages (from formulaic>=0.2.2->lifelines) (4.11.0)\n",
      "Requirement already satisfied: wrapt>=1.0 in c:\\users\\shali\\downloads\\anacondafiles\\lib\\site-packages (from formulaic>=0.2.2->lifelines) (1.14.1)\n",
      "Requirement already satisfied: contourpy>=1.0.1 in c:\\users\\shali\\downloads\\anacondafiles\\lib\\site-packages (from matplotlib>=3.0->lifelines) (1.2.0)\n",
      "Requirement already satisfied: cycler>=0.10 in c:\\users\\shali\\downloads\\anacondafiles\\lib\\site-packages (from matplotlib>=3.0->lifelines) (0.11.0)\n",
      "Requirement already satisfied: fonttools>=4.22.0 in c:\\users\\shali\\downloads\\anacondafiles\\lib\\site-packages (from matplotlib>=3.0->lifelines) (4.51.0)\n",
      "Requirement already satisfied: kiwisolver>=1.3.1 in c:\\users\\shali\\downloads\\anacondafiles\\lib\\site-packages (from matplotlib>=3.0->lifelines) (1.4.4)\n",
      "Requirement already satisfied: packaging>=20.0 in c:\\users\\shali\\downloads\\anacondafiles\\lib\\site-packages (from matplotlib>=3.0->lifelines) (24.1)\n",
      "Requirement already satisfied: pillow>=8 in c:\\users\\shali\\downloads\\anacondafiles\\lib\\site-packages (from matplotlib>=3.0->lifelines) (10.4.0)\n",
      "Requirement already satisfied: pyparsing>=2.3.1 in c:\\users\\shali\\downloads\\anacondafiles\\lib\\site-packages (from matplotlib>=3.0->lifelines) (3.1.2)\n",
      "Requirement already satisfied: python-dateutil>=2.7 in c:\\users\\shali\\downloads\\anacondafiles\\lib\\site-packages (from matplotlib>=3.0->lifelines) (2.9.0.post0)\n",
      "Requirement already satisfied: pytz>=2020.1 in c:\\users\\shali\\downloads\\anacondafiles\\lib\\site-packages (from pandas>=2.1->lifelines) (2024.1)\n",
      "Requirement already satisfied: tzdata>=2022.7 in c:\\users\\shali\\downloads\\anacondafiles\\lib\\site-packages (from pandas>=2.1->lifelines) (2023.3)\n",
      "Requirement already satisfied: six>=1.5 in c:\\users\\shali\\downloads\\anacondafiles\\lib\\site-packages (from python-dateutil>=2.7->matplotlib>=3.0->lifelines) (1.16.0)\n",
      "Note: you may need to restart the kernel to use updated packages.\n"
     ]
    }
   ],
   "source": [
    "pip install lifelines"
   ]
  },
  {
   "cell_type": "code",
   "execution_count": 60,
   "id": "36df3a08-d978-43ab-840f-08447506666d",
   "metadata": {},
   "outputs": [
    {
     "data": {
      "text/plain": [
       "Index(['Study ID', 'Patient ID', 'Sample ID', 'Diagnosis Age',\n",
       "       'Diagnosis Age (days)', 'Analysis Cohort',\n",
       "       'Bone Marrow Leukemic Blast Percentage', 'Bone Marrow Site of Relapse',\n",
       "       'Cancer Type', 'Cancer Type Detailed', 'CBFT2A3-GLIS', 'CEBPA Mutation',\n",
       "       'Chloroma', 'Chloroma Site of Relapse', 'C-Kit Mutation Exon 17',\n",
       "       'C-Kit Mutation Exon 8', 'CNS Disease', 'CNS Site of Relapse',\n",
       "       'CR Status at End of Course 1', 'CR Status at End of Course 2',\n",
       "       'Cytogenetic Code (Other)', 'Cytogenetic Complexity',\n",
       "       'Cytogenetic Relapse Site', 'Time To Event (days)', '5Q Deletion',\n",
       "       '7Q Deletion', '9Q Deletion', 'Ethnicity Category', 'FAB',\n",
       "       'First Event', 'FLT3-ITD Allelic Ratio.', 'FLT3-ITD Postive', 'FLT3-PM',\n",
       "       'Fraction Genome Altered', 'inv(16)', 'ISCN', 'Minus-X', 'Minus-Y',\n",
       "       'MLL', 'Monosomy 5', 'Monosomy 7', 'MRD at end of Course 1',\n",
       "       'MRD at end of Course 2', 'MRD Percentage at end of Course 1',\n",
       "       'MRD Percentage at end of Course 2', 'Mutation Count', 'NPM Mutation',\n",
       "       'NUP98-NSD1', 'Oncotree Code', 'Overall Survival Days',\n",
       "       'Overall Survival (Months)', 'Overall Survival Status', 'Other MLL',\n",
       "       'Other Site of Relapse', 'Peripheral Blasts Percentage',\n",
       "       'Primary Cytogenetic Code', 'Protocol', 'Race Category', 'Risk Group',\n",
       "       'Number of Samples Per Patient', 'SCT in First CR', 'Sex',\n",
       "       'Somatic Status', 'TMB (nonsynonymous)', 'Trisomy 21', 'Trisomy 8',\n",
       "       't(10;11)(p11.2;q23)', 't(11:19)(q23:p13.1)', 't(3;5)(q25;q34)',\n",
       "       't(6;11)(q27;q23)', 't(6;9)', 't(8;21)', 't(9;11)(p22;q23)', 'WBC',\n",
       "       'WT1 Mutation'],\n",
       "      dtype='object')"
      ]
     },
     "execution_count": 60,
     "metadata": {},
     "output_type": "execute_result"
    }
   ],
   "source": [
    "survival_data.columns"
   ]
  }
 ],
 "metadata": {
  "kernelspec": {
   "display_name": "Python [conda env:base] *",
   "language": "python",
   "name": "conda-base-py"
  },
  "language_info": {
   "codemirror_mode": {
    "name": "ipython",
    "version": 3
   },
   "file_extension": ".py",
   "mimetype": "text/x-python",
   "name": "python",
   "nbconvert_exporter": "python",
   "pygments_lexer": "ipython3",
   "version": "3.12.3"
  }
 },
 "nbformat": 4,
 "nbformat_minor": 5
}
